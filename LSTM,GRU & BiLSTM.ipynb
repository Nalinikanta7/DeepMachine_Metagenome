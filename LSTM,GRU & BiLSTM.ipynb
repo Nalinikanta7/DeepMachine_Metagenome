{
 "cells": [
  {
   "cell_type": "markdown",
   "metadata": {},
   "source": [
    "# BiLSTM, LSTM & GRU"
   ]
  },
  {
   "cell_type": "markdown",
   "metadata": {},
   "source": [
    "## Import Libraries"
   ]
  },
  {
   "cell_type": "code",
   "execution_count": 1,
   "metadata": {},
   "outputs": [],
   "source": [
    "import numpy\n",
    "import scipy\n",
    "import tensorflow as tf\n",
    "from tensorflow import keras\n",
    "from tensorflow.keras import Sequential, layers, callbacks\n",
    "from tensorflow.keras.layers import Dense, LSTM, Dropout, GRU, Bidirectional\n",
    "import pandas as pd\n",
    "import numpy as np\n",
    "\n",
    "from sklearn.model_selection import train_test_split\n",
    "\n",
    "from matplotlib import pyplot as plt\n",
    "from IPython.core.pylabtools import figsize\n",
    "\n",
    "from pandas.plotting import register_matplotlib_converters\n",
    "register_matplotlib_converters()\n",
    "import seaborn as sns\n",
    "import pickle"
   ]
  },
  {
   "cell_type": "markdown",
   "metadata": {},
   "source": [
    "## Import Data"
   ]
  },
  {
   "cell_type": "code",
   "execution_count": 2,
   "metadata": {},
   "outputs": [],
   "source": [
    "dataset = pd.read_csv(\"extracted_feature_with_Response.csv\")\n",
    "X = dataset.iloc[:,[1,258]].values\n",
    "y = dataset.iloc[:,[-1]].values\n"
   ]
  },
  {
   "cell_type": "code",
   "execution_count": 3,
   "metadata": {},
   "outputs": [
    {
     "data": {
      "text/html": [
       "<div>\n",
       "<style scoped>\n",
       "    .dataframe tbody tr th:only-of-type {\n",
       "        vertical-align: middle;\n",
       "    }\n",
       "\n",
       "    .dataframe tbody tr th {\n",
       "        vertical-align: top;\n",
       "    }\n",
       "\n",
       "    .dataframe thead th {\n",
       "        text-align: right;\n",
       "    }\n",
       "</style>\n",
       "<table border=\"1\" class=\"dataframe\">\n",
       "  <thead>\n",
       "    <tr style=\"text-align: right;\">\n",
       "      <th></th>\n",
       "      <th>CTD.C_A</th>\n",
       "      <th>CTD.C_T</th>\n",
       "      <th>CTD.C_C</th>\n",
       "      <th>CTD.C_G</th>\n",
       "      <th>CTD.T_A_T</th>\n",
       "      <th>CTD.T_A_C</th>\n",
       "      <th>CTD.T_A_G</th>\n",
       "      <th>CTD.T_T_C</th>\n",
       "      <th>CTD.T_T_G</th>\n",
       "      <th>CTD.T_C_G</th>\n",
       "      <th>...</th>\n",
       "      <th>CKSAAP.G0G.2</th>\n",
       "      <th>CKSAAP.G1A.1</th>\n",
       "      <th>CKSAAP.G1T.1</th>\n",
       "      <th>CKSAAP.G1C.1</th>\n",
       "      <th>CKSAAP.G1G.1</th>\n",
       "      <th>CKSAAP.G2A</th>\n",
       "      <th>CKSAAP.G2T</th>\n",
       "      <th>CKSAAP.G2C</th>\n",
       "      <th>CKSAAP.G2G</th>\n",
       "      <th>Response</th>\n",
       "    </tr>\n",
       "  </thead>\n",
       "  <tbody>\n",
       "    <tr>\n",
       "      <th>count</th>\n",
       "      <td>166.000000</td>\n",
       "      <td>166.000000</td>\n",
       "      <td>166.000000</td>\n",
       "      <td>166.000000</td>\n",
       "      <td>166.000000</td>\n",
       "      <td>166.000000</td>\n",
       "      <td>166.000000</td>\n",
       "      <td>166.000000</td>\n",
       "      <td>166.000000</td>\n",
       "      <td>166.000000</td>\n",
       "      <td>...</td>\n",
       "      <td>166.000000</td>\n",
       "      <td>166.000000</td>\n",
       "      <td>166.000000</td>\n",
       "      <td>166.000000</td>\n",
       "      <td>166.000000</td>\n",
       "      <td>166.000000</td>\n",
       "      <td>166.000000</td>\n",
       "      <td>166.000000</td>\n",
       "      <td>166.000000</td>\n",
       "      <td>166.000000</td>\n",
       "    </tr>\n",
       "    <tr>\n",
       "      <th>mean</th>\n",
       "      <td>0.173911</td>\n",
       "      <td>0.169655</td>\n",
       "      <td>0.326005</td>\n",
       "      <td>0.330429</td>\n",
       "      <td>0.052728</td>\n",
       "      <td>0.112409</td>\n",
       "      <td>0.115872</td>\n",
       "      <td>0.121176</td>\n",
       "      <td>0.106072</td>\n",
       "      <td>0.253488</td>\n",
       "      <td>...</td>\n",
       "      <td>29.198795</td>\n",
       "      <td>17.361446</td>\n",
       "      <td>19.746988</td>\n",
       "      <td>35.885542</td>\n",
       "      <td>30.945783</td>\n",
       "      <td>16.951807</td>\n",
       "      <td>14.813253</td>\n",
       "      <td>34.132530</td>\n",
       "      <td>37.728916</td>\n",
       "      <td>0.825301</td>\n",
       "    </tr>\n",
       "    <tr>\n",
       "      <th>std</th>\n",
       "      <td>0.049914</td>\n",
       "      <td>0.043270</td>\n",
       "      <td>0.050741</td>\n",
       "      <td>0.044041</td>\n",
       "      <td>0.031173</td>\n",
       "      <td>0.029391</td>\n",
       "      <td>0.028282</td>\n",
       "      <td>0.026755</td>\n",
       "      <td>0.025699</td>\n",
       "      <td>0.070033</td>\n",
       "      <td>...</td>\n",
       "      <td>13.295805</td>\n",
       "      <td>9.056828</td>\n",
       "      <td>9.055845</td>\n",
       "      <td>17.225215</td>\n",
       "      <td>13.823676</td>\n",
       "      <td>9.254520</td>\n",
       "      <td>7.820413</td>\n",
       "      <td>15.169564</td>\n",
       "      <td>16.390833</td>\n",
       "      <td>0.380858</td>\n",
       "    </tr>\n",
       "    <tr>\n",
       "      <th>min</th>\n",
       "      <td>0.093496</td>\n",
       "      <td>0.094527</td>\n",
       "      <td>0.117409</td>\n",
       "      <td>0.187215</td>\n",
       "      <td>0.008721</td>\n",
       "      <td>0.045249</td>\n",
       "      <td>0.051163</td>\n",
       "      <td>0.052632</td>\n",
       "      <td>0.035000</td>\n",
       "      <td>0.046154</td>\n",
       "      <td>...</td>\n",
       "      <td>7.000000</td>\n",
       "      <td>5.000000</td>\n",
       "      <td>4.000000</td>\n",
       "      <td>6.000000</td>\n",
       "      <td>3.000000</td>\n",
       "      <td>4.000000</td>\n",
       "      <td>1.000000</td>\n",
       "      <td>3.000000</td>\n",
       "      <td>7.000000</td>\n",
       "      <td>0.000000</td>\n",
       "    </tr>\n",
       "    <tr>\n",
       "      <th>25%</th>\n",
       "      <td>0.140474</td>\n",
       "      <td>0.142272</td>\n",
       "      <td>0.308384</td>\n",
       "      <td>0.308831</td>\n",
       "      <td>0.033259</td>\n",
       "      <td>0.090641</td>\n",
       "      <td>0.096441</td>\n",
       "      <td>0.104692</td>\n",
       "      <td>0.087868</td>\n",
       "      <td>0.222408</td>\n",
       "      <td>...</td>\n",
       "      <td>21.000000</td>\n",
       "      <td>11.000000</td>\n",
       "      <td>14.000000</td>\n",
       "      <td>25.250000</td>\n",
       "      <td>22.000000</td>\n",
       "      <td>11.000000</td>\n",
       "      <td>10.000000</td>\n",
       "      <td>25.000000</td>\n",
       "      <td>28.000000</td>\n",
       "      <td>1.000000</td>\n",
       "    </tr>\n",
       "    <tr>\n",
       "      <th>50%</th>\n",
       "      <td>0.168239</td>\n",
       "      <td>0.159995</td>\n",
       "      <td>0.333333</td>\n",
       "      <td>0.330677</td>\n",
       "      <td>0.046693</td>\n",
       "      <td>0.111993</td>\n",
       "      <td>0.113861</td>\n",
       "      <td>0.117979</td>\n",
       "      <td>0.103933</td>\n",
       "      <td>0.260878</td>\n",
       "      <td>...</td>\n",
       "      <td>27.000000</td>\n",
       "      <td>15.000000</td>\n",
       "      <td>18.000000</td>\n",
       "      <td>34.000000</td>\n",
       "      <td>30.000000</td>\n",
       "      <td>15.000000</td>\n",
       "      <td>13.000000</td>\n",
       "      <td>32.000000</td>\n",
       "      <td>35.000000</td>\n",
       "      <td>1.000000</td>\n",
       "    </tr>\n",
       "    <tr>\n",
       "      <th>75%</th>\n",
       "      <td>0.193515</td>\n",
       "      <td>0.186854</td>\n",
       "      <td>0.353590</td>\n",
       "      <td>0.364342</td>\n",
       "      <td>0.059693</td>\n",
       "      <td>0.129469</td>\n",
       "      <td>0.132042</td>\n",
       "      <td>0.134817</td>\n",
       "      <td>0.119801</td>\n",
       "      <td>0.293355</td>\n",
       "      <td>...</td>\n",
       "      <td>34.000000</td>\n",
       "      <td>22.000000</td>\n",
       "      <td>23.000000</td>\n",
       "      <td>43.000000</td>\n",
       "      <td>37.750000</td>\n",
       "      <td>20.000000</td>\n",
       "      <td>17.750000</td>\n",
       "      <td>41.000000</td>\n",
       "      <td>45.000000</td>\n",
       "      <td>1.000000</td>\n",
       "    </tr>\n",
       "    <tr>\n",
       "      <th>max</th>\n",
       "      <td>0.380567</td>\n",
       "      <td>0.318008</td>\n",
       "      <td>0.457143</td>\n",
       "      <td>0.427451</td>\n",
       "      <td>0.209459</td>\n",
       "      <td>0.218593</td>\n",
       "      <td>0.236842</td>\n",
       "      <td>0.221918</td>\n",
       "      <td>0.184100</td>\n",
       "      <td>0.396476</td>\n",
       "      <td>...</td>\n",
       "      <td>115.000000</td>\n",
       "      <td>64.000000</td>\n",
       "      <td>77.000000</td>\n",
       "      <td>177.000000</td>\n",
       "      <td>114.000000</td>\n",
       "      <td>77.000000</td>\n",
       "      <td>53.000000</td>\n",
       "      <td>138.000000</td>\n",
       "      <td>150.000000</td>\n",
       "      <td>1.000000</td>\n",
       "    </tr>\n",
       "  </tbody>\n",
       "</table>\n",
       "<p>8 rows × 259 columns</p>\n",
       "</div>"
      ],
      "text/plain": [
       "          CTD.C_A     CTD.C_T     CTD.C_C     CTD.C_G   CTD.T_A_T   CTD.T_A_C  \\\n",
       "count  166.000000  166.000000  166.000000  166.000000  166.000000  166.000000   \n",
       "mean     0.173911    0.169655    0.326005    0.330429    0.052728    0.112409   \n",
       "std      0.049914    0.043270    0.050741    0.044041    0.031173    0.029391   \n",
       "min      0.093496    0.094527    0.117409    0.187215    0.008721    0.045249   \n",
       "25%      0.140474    0.142272    0.308384    0.308831    0.033259    0.090641   \n",
       "50%      0.168239    0.159995    0.333333    0.330677    0.046693    0.111993   \n",
       "75%      0.193515    0.186854    0.353590    0.364342    0.059693    0.129469   \n",
       "max      0.380567    0.318008    0.457143    0.427451    0.209459    0.218593   \n",
       "\n",
       "        CTD.T_A_G   CTD.T_T_C   CTD.T_T_G   CTD.T_C_G  ...  CKSAAP.G0G.2  \\\n",
       "count  166.000000  166.000000  166.000000  166.000000  ...    166.000000   \n",
       "mean     0.115872    0.121176    0.106072    0.253488  ...     29.198795   \n",
       "std      0.028282    0.026755    0.025699    0.070033  ...     13.295805   \n",
       "min      0.051163    0.052632    0.035000    0.046154  ...      7.000000   \n",
       "25%      0.096441    0.104692    0.087868    0.222408  ...     21.000000   \n",
       "50%      0.113861    0.117979    0.103933    0.260878  ...     27.000000   \n",
       "75%      0.132042    0.134817    0.119801    0.293355  ...     34.000000   \n",
       "max      0.236842    0.221918    0.184100    0.396476  ...    115.000000   \n",
       "\n",
       "       CKSAAP.G1A.1  CKSAAP.G1T.1  CKSAAP.G1C.1  CKSAAP.G1G.1  CKSAAP.G2A  \\\n",
       "count    166.000000    166.000000    166.000000    166.000000  166.000000   \n",
       "mean      17.361446     19.746988     35.885542     30.945783   16.951807   \n",
       "std        9.056828      9.055845     17.225215     13.823676    9.254520   \n",
       "min        5.000000      4.000000      6.000000      3.000000    4.000000   \n",
       "25%       11.000000     14.000000     25.250000     22.000000   11.000000   \n",
       "50%       15.000000     18.000000     34.000000     30.000000   15.000000   \n",
       "75%       22.000000     23.000000     43.000000     37.750000   20.000000   \n",
       "max       64.000000     77.000000    177.000000    114.000000   77.000000   \n",
       "\n",
       "       CKSAAP.G2T  CKSAAP.G2C  CKSAAP.G2G    Response  \n",
       "count  166.000000  166.000000  166.000000  166.000000  \n",
       "mean    14.813253   34.132530   37.728916    0.825301  \n",
       "std      7.820413   15.169564   16.390833    0.380858  \n",
       "min      1.000000    3.000000    7.000000    0.000000  \n",
       "25%     10.000000   25.000000   28.000000    1.000000  \n",
       "50%     13.000000   32.000000   35.000000    1.000000  \n",
       "75%     17.750000   41.000000   45.000000    1.000000  \n",
       "max     53.000000  138.000000  150.000000    1.000000  \n",
       "\n",
       "[8 rows x 259 columns]"
      ]
     },
     "execution_count": 3,
     "metadata": {},
     "output_type": "execute_result"
    }
   ],
   "source": [
    "dataset.describe()"
   ]
  },
  {
   "cell_type": "markdown",
   "metadata": {},
   "source": [
    "## Split the data set"
   ]
  },
  {
   "cell_type": "code",
   "execution_count": 4,
   "metadata": {},
   "outputs": [],
   "source": [
    "from sklearn.model_selection import train_test_split\n",
    "X_train, X_test, y_train, y_test = train_test_split(X, y, test_size = 0.20, random_state = 0)"
   ]
  },
  {
   "cell_type": "markdown",
   "metadata": {},
   "source": [
    "## Scaling the dataset"
   ]
  },
  {
   "cell_type": "code",
   "execution_count": 5,
   "metadata": {},
   "outputs": [],
   "source": [
    "from sklearn.preprocessing import StandardScaler\n",
    "sc = StandardScaler()\n",
    "X_train_norm = sc.fit_transform(X_train)\n",
    "X_test_norm = sc.transform(X_test)"
   ]
  },
  {
   "cell_type": "markdown",
   "metadata": {},
   "source": [
    "## Create a 3D input"
   ]
  },
  {
   "cell_type": "code",
   "execution_count": 6,
   "metadata": {},
   "outputs": [
    {
     "name": "stdout",
     "output_type": "stream",
     "text": [
      "X_train.shape:  (4, 30, 2)\n",
      "y_train.shape:  (102, 1)\n",
      "X_test.shape:  (4, 30, 2)\n",
      "y_test.shape:  (102, 1)\n"
     ]
    }
   ],
   "source": [
    "def create_dataset (X, y, time_steps = 1):\n",
    "    Xs, ys = [], []\n",
    "    for i in range(len(X)-time_steps):\n",
    "        v = X[i:i+time_steps, :]\n",
    "        Xs.append(v)\n",
    "        ys.append(y[i+time_steps])\n",
    "    return np.array(Xs), np.array(ys)\n",
    "TIME_STEPS = 30\n",
    "X_test, y_test = create_dataset(X_test_norm, y_test,   \n",
    "                                TIME_STEPS)\n",
    "X_train, y_train = create_dataset(X_train_norm, y_train, \n",
    "                                  TIME_STEPS)\n",
    "print('X_train.shape: ', X_test.shape)\n",
    "print('y_train.shape: ', y_train.shape)\n",
    "print('X_test.shape: ', X_test.shape)\n",
    "print('y_test.shape: ', y_train.shape)"
   ]
  },
  {
   "cell_type": "markdown",
   "metadata": {},
   "source": [
    "## Designing the network architecture"
   ]
  },
  {
   "cell_type": "markdown",
   "metadata": {},
   "source": [
    "### Create BiLSTM, LSTM and GRU model"
   ]
  },
  {
   "cell_type": "code",
   "execution_count": 7,
   "metadata": {},
   "outputs": [],
   "source": [
    "# Create BiLSTM model\n",
    "def create_model_bilstm(units):\n",
    "    model = Sequential()\n",
    "    # First layer of BiLSTM\n",
    "    model.add(Bidirectional(LSTM(units = units, return_sequences=True), \n",
    "                            input_shape=(X_train.shape[1], X_train.shape[2])))\n",
    "    # Second layer of BiLSTM\n",
    "    model.add(Bidirectional(LSTM(units = units)))\n",
    "    model.add(Dense(1))\n",
    "    #Compile model\n",
    "    model.compile(loss='mse', optimizer='adam')\n",
    "    return model\n",
    "\n",
    "\n",
    "# Create LSTM or GRU model\n",
    "def create_model(units, m):\n",
    "    model = Sequential()\n",
    "    #First layer of LSTM\n",
    "    model.add(m (units = units, return_sequences = True,\n",
    "                input_shape = [X_train.shape[1], X_train.shape[2]]))\n",
    "    model.add(Dropout(0.2))\n",
    "    #Second Layer of LSTM\n",
    "    model.add(m (units = units))\n",
    "    model.add(Dropout(0.2))\n",
    "    model.add(Dense(units = 1))\n",
    "    #Compile model\n",
    "    model.compile(loss='mse', optimizer='adam')\n",
    "    return model\n",
    "\n",
    "# BiLSTM\n",
    "model_bilstm = create_model_bilstm(64)\n",
    "\n",
    "# GRU\n",
    "model_gru = create_model(64, GRU)\n",
    "\n",
    "# LSTM\n",
    "model_lstm = create_model(64, LSTM)\n"
   ]
  },
  {
   "cell_type": "markdown",
   "metadata": {},
   "source": [
    "## LSTM model fitting"
   ]
  },
  {
   "cell_type": "code",
   "execution_count": 8,
   "metadata": {},
   "outputs": [
    {
     "name": "stdout",
     "output_type": "stream",
     "text": [
      "Epoch 1/100\n",
      "3/3 [==============================] - 2s 539ms/step - loss: 0.7776 - val_loss: 1.1114\n",
      "Epoch 2/100\n",
      "3/3 [==============================] - 0s 65ms/step - loss: 0.4798 - val_loss: 1.3476\n",
      "Epoch 3/100\n",
      "3/3 [==============================] - 0s 60ms/step - loss: 0.2265 - val_loss: 1.6495\n",
      "Epoch 4/100\n",
      "3/3 [==============================] - 0s 63ms/step - loss: 0.2367 - val_loss: 1.4210\n",
      "Epoch 5/100\n",
      "3/3 [==============================] - 0s 63ms/step - loss: 0.2009 - val_loss: 1.0477\n",
      "Epoch 6/100\n",
      "3/3 [==============================] - 0s 67ms/step - loss: 0.1572 - val_loss: 0.8005\n",
      "Epoch 7/100\n",
      "3/3 [==============================] - 0s 64ms/step - loss: 0.1615 - val_loss: 0.6509\n",
      "Epoch 8/100\n",
      "3/3 [==============================] - 0s 64ms/step - loss: 0.1552 - val_loss: 0.5508\n",
      "Epoch 9/100\n",
      "3/3 [==============================] - 0s 69ms/step - loss: 0.1426 - val_loss: 0.4777\n",
      "Epoch 10/100\n",
      "3/3 [==============================] - 0s 68ms/step - loss: 0.1414 - val_loss: 0.4245\n",
      "Epoch 11/100\n",
      "3/3 [==============================] - 0s 61ms/step - loss: 0.1432 - val_loss: 0.3884\n",
      "Epoch 12/100\n",
      "3/3 [==============================] - 0s 62ms/step - loss: 0.1375 - val_loss: 0.3665\n",
      "Epoch 13/100\n",
      "3/3 [==============================] - 0s 62ms/step - loss: 0.1351 - val_loss: 0.3535\n",
      "Epoch 14/100\n",
      "3/3 [==============================] - 0s 62ms/step - loss: 0.1355 - val_loss: 0.3431\n",
      "Epoch 15/100\n",
      "3/3 [==============================] - 0s 62ms/step - loss: 0.1332 - val_loss: 0.3321\n",
      "Epoch 16/100\n",
      "3/3 [==============================] - 0s 70ms/step - loss: 0.1307 - val_loss: 0.3212\n",
      "Epoch 17/100\n",
      "3/3 [==============================] - 0s 60ms/step - loss: 0.1306 - val_loss: 0.3124\n",
      "Epoch 18/100\n",
      "3/3 [==============================] - 0s 65ms/step - loss: 0.1301 - val_loss: 0.3059\n",
      "Epoch 19/100\n",
      "3/3 [==============================] - 0s 62ms/step - loss: 0.1288 - val_loss: 0.2992\n",
      "Epoch 20/100\n",
      "3/3 [==============================] - 0s 64ms/step - loss: 0.1280 - val_loss: 0.2897\n",
      "Epoch 21/100\n",
      "3/3 [==============================] - 0s 61ms/step - loss: 0.1274 - val_loss: 0.2777\n",
      "Epoch 22/100\n",
      "3/3 [==============================] - 0s 64ms/step - loss: 0.1265 - val_loss: 0.2662\n",
      "Epoch 23/100\n",
      "3/3 [==============================] - 0s 64ms/step - loss: 0.1261 - val_loss: 0.2575\n",
      "Epoch 24/100\n",
      "3/3 [==============================] - 0s 62ms/step - loss: 0.1255 - val_loss: 0.2512\n",
      "Epoch 25/100\n",
      "3/3 [==============================] - 0s 60ms/step - loss: 0.1248 - val_loss: 0.2460\n",
      "Epoch 26/100\n",
      "3/3 [==============================] - 0s 65ms/step - loss: 0.1243 - val_loss: 0.2415\n",
      "Epoch 27/100\n",
      "3/3 [==============================] - 0s 63ms/step - loss: 0.1238 - val_loss: 0.2382\n",
      "Epoch 28/100\n",
      "3/3 [==============================] - 0s 62ms/step - loss: 0.1233 - val_loss: 0.2360\n",
      "Epoch 29/100\n",
      "3/3 [==============================] - 0s 63ms/step - loss: 0.1228 - val_loss: 0.2341\n",
      "Epoch 30/100\n",
      "3/3 [==============================] - 0s 66ms/step - loss: 0.1224 - val_loss: 0.2325\n",
      "Epoch 31/100\n",
      "3/3 [==============================] - 0s 64ms/step - loss: 0.1220 - val_loss: 0.2322\n",
      "Epoch 32/100\n",
      "3/3 [==============================] - 0s 78ms/step - loss: 0.1217 - val_loss: 0.2331\n",
      "Epoch 33/100\n",
      "3/3 [==============================] - 0s 61ms/step - loss: 0.1214 - val_loss: 0.2341\n",
      "Epoch 34/100\n",
      "3/3 [==============================] - 0s 66ms/step - loss: 0.1210 - val_loss: 0.2352\n",
      "Epoch 35/100\n",
      "3/3 [==============================] - 0s 63ms/step - loss: 0.1207 - val_loss: 0.2371\n",
      "Epoch 36/100\n",
      "3/3 [==============================] - 0s 65ms/step - loss: 0.1204 - val_loss: 0.2394\n",
      "Epoch 37/100\n",
      "3/3 [==============================] - 0s 63ms/step - loss: 0.1201 - val_loss: 0.2407\n",
      "Epoch 38/100\n",
      "3/3 [==============================] - 0s 64ms/step - loss: 0.1197 - val_loss: 0.2407\n",
      "Epoch 39/100\n",
      "3/3 [==============================] - 0s 61ms/step - loss: 0.1194 - val_loss: 0.2406\n",
      "Epoch 40/100\n",
      "3/3 [==============================] - 0s 63ms/step - loss: 0.1191 - val_loss: 0.2405\n",
      "Epoch 41/100\n",
      "3/3 [==============================] - 0s 62ms/step - loss: 0.1188 - val_loss: 0.2396\n",
      "Epoch 1/100\n",
      "3/3 [==============================] - 1s 279ms/step - loss: 0.8167 - val_loss: 1.0407\n",
      "Epoch 2/100\n",
      "3/3 [==============================] - 0s 52ms/step - loss: 0.6520 - val_loss: 1.1240\n",
      "Epoch 3/100\n",
      "3/3 [==============================] - 0s 54ms/step - loss: 0.4580 - val_loss: 1.2245\n",
      "Epoch 4/100\n",
      "3/3 [==============================] - 0s 50ms/step - loss: 0.2165 - val_loss: 1.2994\n",
      "Epoch 5/100\n",
      "3/3 [==============================] - 0s 47ms/step - loss: 0.3023 - val_loss: 1.0463\n",
      "Epoch 6/100\n",
      "3/3 [==============================] - 0s 48ms/step - loss: 0.2165 - val_loss: 0.8158\n",
      "Epoch 7/100\n",
      "3/3 [==============================] - 0s 51ms/step - loss: 0.1710 - val_loss: 0.6448\n",
      "Epoch 8/100\n",
      "3/3 [==============================] - 0s 53ms/step - loss: 0.1765 - val_loss: 0.4991\n",
      "Epoch 9/100\n",
      "3/3 [==============================] - 0s 48ms/step - loss: 0.1609 - val_loss: 0.3634\n",
      "Epoch 10/100\n",
      "3/3 [==============================] - 0s 53ms/step - loss: 0.1463 - val_loss: 0.2562\n",
      "Epoch 11/100\n",
      "3/3 [==============================] - 0s 48ms/step - loss: 0.1626 - val_loss: 0.2025\n",
      "Epoch 12/100\n",
      "3/3 [==============================] - 0s 54ms/step - loss: 0.1532 - val_loss: 0.1835\n",
      "Epoch 13/100\n",
      "3/3 [==============================] - 0s 52ms/step - loss: 0.1313 - val_loss: 0.1744\n",
      "Epoch 14/100\n",
      "3/3 [==============================] - 0s 53ms/step - loss: 0.1479 - val_loss: 0.1683\n",
      "Epoch 15/100\n",
      "3/3 [==============================] - 0s 48ms/step - loss: 0.1378 - val_loss: 0.1650\n",
      "Epoch 16/100\n",
      "3/3 [==============================] - 0s 50ms/step - loss: 0.1457 - val_loss: 0.1649\n",
      "Epoch 17/100\n",
      "3/3 [==============================] - 0s 53ms/step - loss: 0.1451 - val_loss: 0.1649\n",
      "Epoch 18/100\n",
      "3/3 [==============================] - 0s 50ms/step - loss: 0.1521 - val_loss: 0.1641\n",
      "Epoch 19/100\n",
      "3/3 [==============================] - 0s 50ms/step - loss: 0.1361 - val_loss: 0.1640\n",
      "Epoch 20/100\n",
      "3/3 [==============================] - 0s 48ms/step - loss: 0.1355 - val_loss: 0.1636\n",
      "Epoch 21/100\n",
      "3/3 [==============================] - 0s 51ms/step - loss: 0.1338 - val_loss: 0.1629\n",
      "Epoch 22/100\n",
      "3/3 [==============================] - 0s 49ms/step - loss: 0.1435 - val_loss: 0.1623\n",
      "Epoch 23/100\n",
      "3/3 [==============================] - 0s 52ms/step - loss: 0.1400 - val_loss: 0.1616\n",
      "Epoch 24/100\n",
      "3/3 [==============================] - 0s 48ms/step - loss: 0.1444 - val_loss: 0.1611\n",
      "Epoch 25/100\n",
      "3/3 [==============================] - 0s 50ms/step - loss: 0.1288 - val_loss: 0.1623\n",
      "Epoch 26/100\n",
      "3/3 [==============================] - 0s 51ms/step - loss: 0.1430 - val_loss: 0.1649\n",
      "Epoch 27/100\n",
      "3/3 [==============================] - 0s 54ms/step - loss: 0.1447 - val_loss: 0.1630\n",
      "Epoch 28/100\n",
      "3/3 [==============================] - 0s 45ms/step - loss: 0.1357 - val_loss: 0.1616\n",
      "Epoch 29/100\n",
      "3/3 [==============================] - 0s 53ms/step - loss: 0.1378 - val_loss: 0.1620\n",
      "Epoch 30/100\n",
      "3/3 [==============================] - 0s 51ms/step - loss: 0.1338 - val_loss: 0.1647\n",
      "Epoch 31/100\n",
      "3/3 [==============================] - 0s 52ms/step - loss: 0.1324 - val_loss: 0.1659\n",
      "Epoch 32/100\n",
      "3/3 [==============================] - 0s 51ms/step - loss: 0.1421 - val_loss: 0.1625\n",
      "Epoch 33/100\n",
      "3/3 [==============================] - 0s 55ms/step - loss: 0.1363 - val_loss: 0.1620\n",
      "Epoch 34/100\n",
      "3/3 [==============================] - 0s 49ms/step - loss: 0.1328 - val_loss: 0.1641\n",
      "Epoch 1/100\n",
      "3/3 [==============================] - 1s 314ms/step - loss: 0.8072 - val_loss: 0.9347\n",
      "Epoch 2/100\n",
      "3/3 [==============================] - 0s 47ms/step - loss: 0.6531 - val_loss: 0.8245\n",
      "Epoch 3/100\n",
      "3/3 [==============================] - 0s 47ms/step - loss: 0.4933 - val_loss: 0.6736\n",
      "Epoch 4/100\n",
      "3/3 [==============================] - 0s 43ms/step - loss: 0.3384 - val_loss: 0.4941\n",
      "Epoch 5/100\n",
      "3/3 [==============================] - 0s 41ms/step - loss: 0.2108 - val_loss: 0.2999\n",
      "Epoch 6/100\n",
      "3/3 [==============================] - 0s 45ms/step - loss: 0.1616 - val_loss: 0.1635\n",
      "Epoch 7/100\n",
      "3/3 [==============================] - 0s 43ms/step - loss: 0.2123 - val_loss: 0.1380\n",
      "Epoch 8/100\n",
      "3/3 [==============================] - 0s 46ms/step - loss: 0.1660 - val_loss: 0.1404\n",
      "Epoch 9/100\n",
      "3/3 [==============================] - 0s 42ms/step - loss: 0.1448 - val_loss: 0.1459\n",
      "Epoch 10/100\n",
      "3/3 [==============================] - 0s 46ms/step - loss: 0.1529 - val_loss: 0.1501\n",
      "Epoch 11/100\n",
      "3/3 [==============================] - 0s 44ms/step - loss: 0.1609 - val_loss: 0.1514\n",
      "Epoch 12/100\n",
      "3/3 [==============================] - 0s 43ms/step - loss: 0.1528 - val_loss: 0.1514\n",
      "Epoch 13/100\n",
      "3/3 [==============================] - 0s 43ms/step - loss: 0.1578 - val_loss: 0.1511\n",
      "Epoch 14/100\n",
      "3/3 [==============================] - 0s 45ms/step - loss: 0.1272 - val_loss: 0.1512\n",
      "Epoch 15/100\n",
      "3/3 [==============================] - 0s 44ms/step - loss: 0.1327 - val_loss: 0.1506\n",
      "Epoch 16/100\n",
      "3/3 [==============================] - 0s 45ms/step - loss: 0.1414 - val_loss: 0.1490\n",
      "Epoch 17/100\n",
      "3/3 [==============================] - 0s 47ms/step - loss: 0.1466 - val_loss: 0.1488\n"
     ]
    }
   ],
   "source": [
    "def fit_model(model):\n",
    "    early_stop = keras.callbacks.EarlyStopping(monitor = 'val_loss',\n",
    "                                               patience = 10)\n",
    "    history = model.fit(X_train, y_train, epochs = 100,  \n",
    "                        validation_split = 0.2, batch_size = 32, \n",
    "                        shuffle = False, callbacks = [early_stop])\n",
    "    return history\n",
    "\n",
    "history_bilstm = fit_model(model_bilstm)\n",
    "history_lstm = fit_model(model_lstm)\n",
    "history_gru = fit_model(model_gru)"
   ]
  },
  {
   "cell_type": "markdown",
   "metadata": {},
   "source": [
    "## Plot train loss and validation loss"
   ]
  },
  {
   "cell_type": "code",
   "execution_count": 9,
   "metadata": {},
   "outputs": [
    {
     "data": {
      "image/png": "[encoded data removed]",
      "text/plain": [
       "<Figure size 720x432 with 1 Axes>"
      ]
     },
     "metadata": {
      "needs_background": "light"
     },
     "output_type": "display_data"
    },
    {
     "data": {
      "image/png": "[encoded data removed]",
      "text/plain": [
       "<Figure size 720x432 with 1 Axes>"
      ]
     },
     "metadata": {
      "needs_background": "light"
     },
     "output_type": "display_data"
    },
    {
     "data": {
      "image/png": "[encoded data removed]",
      "text/plain": [
       "<Figure size 720x432 with 1 Axes>"
      ]
     },
     "metadata": {
      "needs_background": "light"
     },
     "output_type": "display_data"
    }
   ],
   "source": [
    "def plot_loss (history,model_name):\n",
    "    plt.figure(figsize = (10, 6))\n",
    "    plt.plot(history.history['loss'])\n",
    "    plt.plot(history.history['val_loss'])\n",
    "    plt.title('Model Train vs Validation Loss for ' + model_name)\n",
    "    plt.ylabel('Loss')\n",
    "    plt.xlabel('epoch')\n",
    "    plt.legend(['Train loss', 'Validation loss'], loc='upper right')\n",
    "    \n",
    "plot_loss (history_bilstm, 'BiLSTM')\n",
    "plot_loss (history_lstm, 'LSTM')\n",
    "plot_loss (history_gru, 'GRU')"
   ]
  },
  {
   "cell_type": "markdown",
   "metadata": {},
   "source": [
    "## Inverse transform the target variable"
   ]
  },
  {
   "cell_type": "markdown",
   "metadata": {},
   "source": [
    "from sklearn.preprocessing import StandardScaler\n",
    "sc = StandardScaler()\n",
    "y_train = scaler_y.inverse_transform(y_train)\n",
    "y_test = scaler_y.inverse_transform(y_test)"
   ]
  },
  {
   "cell_type": "markdown",
   "metadata": {},
   "source": [
    "## Make prediction using LSTM and GRU"
   ]
  },
  {
   "cell_type": "code",
   "execution_count": 10,
   "metadata": {},
   "outputs": [],
   "source": [
    "def prediction(model):\n",
    "    prediction = model.predict(X_test)\n",
    "    return prediction\n",
    "\n",
    "prediction_bilstm = prediction(model_bilstm)\n",
    "prediction_lstm = prediction(model_lstm)\n",
    "prediction_gru = prediction(model_gru)"
   ]
  },
  {
   "cell_type": "markdown",
   "metadata": {},
   "source": [
    "## Plot true future vs prediction"
   ]
  },
  {
   "cell_type": "code",
   "execution_count": 11,
   "metadata": {},
   "outputs": [
    {
     "data": {
      "image/png": "[encoded data removed]",
      "text/plain": [
       "<Figure size 720x432 with 1 Axes>"
      ]
     },
     "metadata": {
      "needs_background": "light"
     },
     "output_type": "display_data"
    },
    {
     "data": {
      "image/png": "[encoded data removed]",
      "text/plain": [
       "<Figure size 720x432 with 1 Axes>"
      ]
     },
     "metadata": {
      "needs_background": "light"
     },
     "output_type": "display_data"
    },
    {
     "data": {
      "image/png": "[encoded data removed]",
      "text/plain": [
       "<Figure size 720x432 with 1 Axes>"
      ]
     },
     "metadata": {
      "needs_background": "light"
     },
     "output_type": "display_data"
    }
   ],
   "source": [
    "def plot_future(prediction, model_name, y_test):\n",
    "    plt.figure(figsize=(10, 6))\n",
    "    range_future = len(prediction)\n",
    "    plt.plot(np.arange(range_future), np.array(y_test), \n",
    "             label='True Future')     \n",
    "    plt.plot(np.arange(range_future),np.array(prediction),\n",
    "            label='Prediction')\n",
    "    plt.legend(loc='upper left')\n",
    "    plt.title('True Future vs Prediction ' + model_name)\n",
    "    plt.xlabel('Scaffolding')\n",
    "    plt.ylabel('Position')\n",
    "\n",
    "plot_future(prediction_bilstm,'BiLSTM', y_test)\n",
    "plot_future(prediction_lstm,'LSTM', y_test)\n",
    "plot_future(prediction_gru, 'GRU' ,y_test)"
   ]
  },
  {
   "cell_type": "markdown",
   "metadata": {},
   "source": [
    "## Calculate RMSE and MAE"
   ]
  },
  {
   "cell_type": "code",
   "execution_count": 12,
   "metadata": {},
   "outputs": [
    {
     "name": "stdout",
     "output_type": "stream",
     "text": [
      "Bidirectional LSTM:\n",
      "Mean Absolute Error: 0.4104\n",
      "Root Mean Square Error: 0.6003\n",
      "\n",
      "LSTM:\n",
      "Mean Absolute Error: 0.3083\n",
      "Root Mean Square Error: 0.4470\n",
      "\n",
      "GRU:\n",
      "Mean Absolute Error: 0.3818\n",
      "Root Mean Square Error: 0.4287\n",
      "\n"
     ]
    }
   ],
   "source": [
    "def evaluate_prediction(predictions, actual, model_name):\n",
    "    errors =  actual - predictions\n",
    "    mse = np.square(errors).mean()\n",
    "    rmse = np.sqrt(mse)\n",
    "    mae = np.abs(errors).mean()\n",
    "    \n",
    "    print(model_name + ':')\n",
    "    print('Mean Absolute Error: {:.4f}'.format(mae))\n",
    "    print('Root Mean Square Error: {:.4f}'.format(rmse))\n",
    "    print('')\n",
    "\n",
    "evaluate_prediction(prediction_bilstm, y_test, 'Bidirectional LSTM')\n",
    "evaluate_prediction(prediction_lstm, y_test, 'LSTM')\n",
    "evaluate_prediction(prediction_gru, y_test, 'GRU')"
   ]
  },
  {
   "cell_type": "markdown",
   "metadata": {},
   "source": [
    "## Input Curated data"
   ]
  },
  {
   "cell_type": "code",
   "execution_count": 13,
   "metadata": {},
   "outputs": [
    {
     "ename": "FileNotFoundError",
     "evalue": "[Errno 2] No such file or directory: ''",
     "output_type": "error",
     "traceback": [
      "\u001b[0;31m---------------------------------------------------------------------------\u001b[0m",
      "\u001b[0;31mFileNotFoundError\u001b[0m                         Traceback (most recent call last)",
      "\u001b[0;32m<ipython-input-13-95649b9f9614>\u001b[0m in \u001b[0;36m<module>\u001b[0;34m\u001b[0m\n\u001b[1;32m      1\u001b[0m \u001b[0;31m# Import data projection\u001b[0m\u001b[0;34m\u001b[0m\u001b[0;34m\u001b[0m\u001b[0;34m\u001b[0m\u001b[0m\n\u001b[0;32m----> 2\u001b[0;31m \u001b[0mnewinput\u001b[0m \u001b[0;34m=\u001b[0m \u001b[0mpd\u001b[0m\u001b[0;34m.\u001b[0m\u001b[0mread_csv\u001b[0m\u001b[0;34m(\u001b[0m\u001b[0;34m''\u001b[0m\u001b[0;34m)\u001b[0m\u001b[0;34m\u001b[0m\u001b[0;34m\u001b[0m\u001b[0m\n\u001b[0m\u001b[1;32m      3\u001b[0m \u001b[0;34m\u001b[0m\u001b[0m\n\u001b[1;32m      4\u001b[0m \u001b[0;31m# Order of the variable are important\u001b[0m\u001b[0;34m\u001b[0m\u001b[0;34m\u001b[0m\u001b[0;34m\u001b[0m\u001b[0m\n\u001b[1;32m      5\u001b[0m \u001b[0mX_new\u001b[0m \u001b[0;34m=\u001b[0m \u001b[0mnewinput\u001b[0m\u001b[0;34m.\u001b[0m\u001b[0mloc\u001b[0m\u001b[0;34m[\u001b[0m\u001b[0;34m:\u001b[0m\u001b[0;34m,\u001b[0m\u001b[0;34m[\u001b[0m\u001b[0;36m1\u001b[0m\u001b[0;34m,\u001b[0m\u001b[0;36m258\u001b[0m\u001b[0;34m]\u001b[0m\u001b[0;34m]\u001b[0m\u001b[0;34m.\u001b[0m\u001b[0mvalues\u001b[0m\u001b[0;34m\u001b[0m\u001b[0;34m\u001b[0m\u001b[0m\n",
      "\u001b[0;32m~/anaconda3/envs/Tensorflow/lib/python3.7/site-packages/pandas/io/parsers.py\u001b[0m in \u001b[0;36mread_csv\u001b[0;34m(filepath_or_buffer, sep, delimiter, header, names, index_col, usecols, squeeze, prefix, mangle_dupe_cols, dtype, engine, converters, true_values, false_values, skipinitialspace, skiprows, skipfooter, nrows, na_values, keep_default_na, na_filter, verbose, skip_blank_lines, parse_dates, infer_datetime_format, keep_date_col, date_parser, dayfirst, cache_dates, iterator, chunksize, compression, thousands, decimal, lineterminator, quotechar, quoting, doublequote, escapechar, comment, encoding, dialect, error_bad_lines, warn_bad_lines, delim_whitespace, low_memory, memory_map, float_precision)\u001b[0m\n\u001b[1;32m    684\u001b[0m     )\n\u001b[1;32m    685\u001b[0m \u001b[0;34m\u001b[0m\u001b[0m\n\u001b[0;32m--> 686\u001b[0;31m     \u001b[0;32mreturn\u001b[0m \u001b[0m_read\u001b[0m\u001b[0;34m(\u001b[0m\u001b[0mfilepath_or_buffer\u001b[0m\u001b[0;34m,\u001b[0m \u001b[0mkwds\u001b[0m\u001b[0;34m)\u001b[0m\u001b[0;34m\u001b[0m\u001b[0;34m\u001b[0m\u001b[0m\n\u001b[0m\u001b[1;32m    687\u001b[0m \u001b[0;34m\u001b[0m\u001b[0m\n\u001b[1;32m    688\u001b[0m \u001b[0;34m\u001b[0m\u001b[0m\n",
      "\u001b[0;32m~/anaconda3/envs/Tensorflow/lib/python3.7/site-packages/pandas/io/parsers.py\u001b[0m in \u001b[0;36m_read\u001b[0;34m(filepath_or_buffer, kwds)\u001b[0m\n\u001b[1;32m    450\u001b[0m \u001b[0;34m\u001b[0m\u001b[0m\n\u001b[1;32m    451\u001b[0m     \u001b[0;31m# Create the parser.\u001b[0m\u001b[0;34m\u001b[0m\u001b[0;34m\u001b[0m\u001b[0;34m\u001b[0m\u001b[0m\n\u001b[0;32m--> 452\u001b[0;31m     \u001b[0mparser\u001b[0m \u001b[0;34m=\u001b[0m \u001b[0mTextFileReader\u001b[0m\u001b[0;34m(\u001b[0m\u001b[0mfp_or_buf\u001b[0m\u001b[0;34m,\u001b[0m \u001b[0;34m**\u001b[0m\u001b[0mkwds\u001b[0m\u001b[0;34m)\u001b[0m\u001b[0;34m\u001b[0m\u001b[0;34m\u001b[0m\u001b[0m\n\u001b[0m\u001b[1;32m    453\u001b[0m \u001b[0;34m\u001b[0m\u001b[0m\n\u001b[1;32m    454\u001b[0m     \u001b[0;32mif\u001b[0m \u001b[0mchunksize\u001b[0m \u001b[0;32mor\u001b[0m \u001b[0miterator\u001b[0m\u001b[0;34m:\u001b[0m\u001b[0;34m\u001b[0m\u001b[0;34m\u001b[0m\u001b[0m\n",
      "\u001b[0;32m~/anaconda3/envs/Tensorflow/lib/python3.7/site-packages/pandas/io/parsers.py\u001b[0m in \u001b[0;36m__init__\u001b[0;34m(self, f, engine, **kwds)\u001b[0m\n\u001b[1;32m    944\u001b[0m             \u001b[0mself\u001b[0m\u001b[0;34m.\u001b[0m\u001b[0moptions\u001b[0m\u001b[0;34m[\u001b[0m\u001b[0;34m\"has_index_names\"\u001b[0m\u001b[0;34m]\u001b[0m \u001b[0;34m=\u001b[0m \u001b[0mkwds\u001b[0m\u001b[0;34m[\u001b[0m\u001b[0;34m\"has_index_names\"\u001b[0m\u001b[0;34m]\u001b[0m\u001b[0;34m\u001b[0m\u001b[0;34m\u001b[0m\u001b[0m\n\u001b[1;32m    945\u001b[0m \u001b[0;34m\u001b[0m\u001b[0m\n\u001b[0;32m--> 946\u001b[0;31m         \u001b[0mself\u001b[0m\u001b[0;34m.\u001b[0m\u001b[0m_make_engine\u001b[0m\u001b[0;34m(\u001b[0m\u001b[0mself\u001b[0m\u001b[0;34m.\u001b[0m\u001b[0mengine\u001b[0m\u001b[0;34m)\u001b[0m\u001b[0;34m\u001b[0m\u001b[0;34m\u001b[0m\u001b[0m\n\u001b[0m\u001b[1;32m    947\u001b[0m \u001b[0;34m\u001b[0m\u001b[0m\n\u001b[1;32m    948\u001b[0m     \u001b[0;32mdef\u001b[0m \u001b[0mclose\u001b[0m\u001b[0;34m(\u001b[0m\u001b[0mself\u001b[0m\u001b[0;34m)\u001b[0m\u001b[0;34m:\u001b[0m\u001b[0;34m\u001b[0m\u001b[0;34m\u001b[0m\u001b[0m\n",
      "\u001b[0;32m~/anaconda3/envs/Tensorflow/lib/python3.7/site-packages/pandas/io/parsers.py\u001b[0m in \u001b[0;36m_make_engine\u001b[0;34m(self, engine)\u001b[0m\n\u001b[1;32m   1176\u001b[0m     \u001b[0;32mdef\u001b[0m \u001b[0m_make_engine\u001b[0m\u001b[0;34m(\u001b[0m\u001b[0mself\u001b[0m\u001b[0;34m,\u001b[0m \u001b[0mengine\u001b[0m\u001b[0;34m=\u001b[0m\u001b[0;34m\"c\"\u001b[0m\u001b[0;34m)\u001b[0m\u001b[0;34m:\u001b[0m\u001b[0;34m\u001b[0m\u001b[0;34m\u001b[0m\u001b[0m\n\u001b[1;32m   1177\u001b[0m         \u001b[0;32mif\u001b[0m \u001b[0mengine\u001b[0m \u001b[0;34m==\u001b[0m \u001b[0;34m\"c\"\u001b[0m\u001b[0;34m:\u001b[0m\u001b[0;34m\u001b[0m\u001b[0;34m\u001b[0m\u001b[0m\n\u001b[0;32m-> 1178\u001b[0;31m             \u001b[0mself\u001b[0m\u001b[0;34m.\u001b[0m\u001b[0m_engine\u001b[0m \u001b[0;34m=\u001b[0m \u001b[0mCParserWrapper\u001b[0m\u001b[0;34m(\u001b[0m\u001b[0mself\u001b[0m\u001b[0;34m.\u001b[0m\u001b[0mf\u001b[0m\u001b[0;34m,\u001b[0m \u001b[0;34m**\u001b[0m\u001b[0mself\u001b[0m\u001b[0;34m.\u001b[0m\u001b[0moptions\u001b[0m\u001b[0;34m)\u001b[0m\u001b[0;34m\u001b[0m\u001b[0;34m\u001b[0m\u001b[0m\n\u001b[0m\u001b[1;32m   1179\u001b[0m         \u001b[0;32melse\u001b[0m\u001b[0;34m:\u001b[0m\u001b[0;34m\u001b[0m\u001b[0;34m\u001b[0m\u001b[0m\n\u001b[1;32m   1180\u001b[0m             \u001b[0;32mif\u001b[0m \u001b[0mengine\u001b[0m \u001b[0;34m==\u001b[0m \u001b[0;34m\"python\"\u001b[0m\u001b[0;34m:\u001b[0m\u001b[0;34m\u001b[0m\u001b[0;34m\u001b[0m\u001b[0m\n",
      "\u001b[0;32m~/anaconda3/envs/Tensorflow/lib/python3.7/site-packages/pandas/io/parsers.py\u001b[0m in \u001b[0;36m__init__\u001b[0;34m(self, src, **kwds)\u001b[0m\n\u001b[1;32m   2006\u001b[0m         \u001b[0mkwds\u001b[0m\u001b[0;34m[\u001b[0m\u001b[0;34m\"usecols\"\u001b[0m\u001b[0;34m]\u001b[0m \u001b[0;34m=\u001b[0m \u001b[0mself\u001b[0m\u001b[0;34m.\u001b[0m\u001b[0musecols\u001b[0m\u001b[0;34m\u001b[0m\u001b[0;34m\u001b[0m\u001b[0m\n\u001b[1;32m   2007\u001b[0m \u001b[0;34m\u001b[0m\u001b[0m\n\u001b[0;32m-> 2008\u001b[0;31m         \u001b[0mself\u001b[0m\u001b[0;34m.\u001b[0m\u001b[0m_reader\u001b[0m \u001b[0;34m=\u001b[0m \u001b[0mparsers\u001b[0m\u001b[0;34m.\u001b[0m\u001b[0mTextReader\u001b[0m\u001b[0;34m(\u001b[0m\u001b[0msrc\u001b[0m\u001b[0;34m,\u001b[0m \u001b[0;34m**\u001b[0m\u001b[0mkwds\u001b[0m\u001b[0;34m)\u001b[0m\u001b[0;34m\u001b[0m\u001b[0;34m\u001b[0m\u001b[0m\n\u001b[0m\u001b[1;32m   2009\u001b[0m         \u001b[0mself\u001b[0m\u001b[0;34m.\u001b[0m\u001b[0munnamed_cols\u001b[0m \u001b[0;34m=\u001b[0m \u001b[0mself\u001b[0m\u001b[0;34m.\u001b[0m\u001b[0m_reader\u001b[0m\u001b[0;34m.\u001b[0m\u001b[0munnamed_cols\u001b[0m\u001b[0;34m\u001b[0m\u001b[0;34m\u001b[0m\u001b[0m\n\u001b[1;32m   2010\u001b[0m \u001b[0;34m\u001b[0m\u001b[0m\n",
      "\u001b[0;32mpandas/_libs/parsers.pyx\u001b[0m in \u001b[0;36mpandas._libs.parsers.TextReader.__cinit__\u001b[0;34m()\u001b[0m\n",
      "\u001b[0;32mpandas/_libs/parsers.pyx\u001b[0m in \u001b[0;36mpandas._libs.parsers.TextReader._setup_parser_source\u001b[0;34m()\u001b[0m\n",
      "\u001b[0;31mFileNotFoundError\u001b[0m: [Errno 2] No such file or directory: ''"
     ]
    }
   ],
   "source": [
    "# Import data projection\n",
    "newinput = pd.read_csv('')\n",
    "\n",
    "# Order of the variable are important\n",
    "X_new = newinput.loc[:,[1,258]].values \n",
    "X_new"
   ]
  },
  {
   "cell_type": "markdown",
   "metadata": {},
   "source": [
    "## Plot histoy and future data"
   ]
  },
  {
   "cell_type": "code",
   "execution_count": 14,
   "metadata": {},
   "outputs": [],
   "source": [
    "def plot_history_future(y_train, prediction, model_name):\n",
    "    \n",
    "    plt.figure(figsize=(10, 6))\n",
    "    \n",
    "    range_history = len(y_train)\n",
    "    range_future = list(range(range_history, range_history + len(prediction)))\n",
    "    \n",
    "    plt.plot(np.arange(range_history), np.array(y_train), label='History')\n",
    "    plt.plot(range_future, np.array(prediction),label='Prediction')\n",
    "    plt.legend(loc='upper right')\n",
    "    plt.xlabel('Scaffolding')\n",
    "    plt.ylabel('Position')\n",
    "    plt.savefig('path/$.jpg', format = 'jpg', dpi = 1000)"
   ]
  },
  {
   "cell_type": "markdown",
   "metadata": {},
   "source": [
    "## External Data Prediction"
   ]
  },
  {
   "cell_type": "code",
   "execution_count": 15,
   "metadata": {},
   "outputs": [
    {
     "ename": "NameError",
     "evalue": "name 'X_new' is not defined",
     "output_type": "error",
     "traceback": [
      "\u001b[0;31m---------------------------------------------------------------------------\u001b[0m",
      "\u001b[0;31mNameError\u001b[0m                                 Traceback (most recent call last)",
      "\u001b[0;32m<ipython-input-15-ee5a288bb74b>\u001b[0m in \u001b[0;36m<module>\u001b[0;34m\u001b[0m\n\u001b[1;32m     14\u001b[0m     \u001b[0;32mreturn\u001b[0m \u001b[0mprediction_actual\u001b[0m\u001b[0;34m\u001b[0m\u001b[0;34m\u001b[0m\u001b[0m\n\u001b[1;32m     15\u001b[0m \u001b[0;34m\u001b[0m\u001b[0m\n\u001b[0;32m---> 16\u001b[0;31m \u001b[0mprediction\u001b[0m \u001b[0;34m=\u001b[0m \u001b[0mclassify\u001b[0m\u001b[0;34m(\u001b[0m\u001b[0mX_new\u001b[0m\u001b[0;34m,\u001b[0m \u001b[0mTIME_STEPS\u001b[0m\u001b[0;34m)\u001b[0m\u001b[0;34m\u001b[0m\u001b[0;34m\u001b[0m\u001b[0m\n\u001b[0m\u001b[1;32m     17\u001b[0m \u001b[0mplot_history_future\u001b[0m\u001b[0;34m(\u001b[0m\u001b[0my_train\u001b[0m\u001b[0;34m,\u001b[0m \u001b[0mprediction\u001b[0m\u001b[0;34m,\u001b[0m \u001b[0;34m'BiLSTM'\u001b[0m\u001b[0;34m)\u001b[0m\u001b[0;34m\u001b[0m\u001b[0;34m\u001b[0m\u001b[0m\n",
      "\u001b[0;31mNameError\u001b[0m: name 'X_new' is not defined"
     ]
    }
   ],
   "source": [
    "def classify(X_input, time_steps):\n",
    "    # Scale the unseen input with the scaler fitted on the train set\n",
    "    X = input_scaler.transform(X_input)\n",
    "    # Reshape unseen data to a 3D input\n",
    "    Xs = []\n",
    "    for i in range(len(X) - time_steps):\n",
    "        v = X[i:i+time_steps, :]\n",
    "        Xs.append(v)\n",
    "    X_transformed = np.array(Xs)\n",
    "    \n",
    "    # Make prediction for unseen data using LSTM model\n",
    "    prediction = model_lstm.predict(X_transformed)\n",
    "    prediction_actual = scaler_y.inverse_transform(prediction)\n",
    "    return prediction_actual\n",
    "\n",
    "prediction = classify(X_new, TIME_STEPS)\n",
    "plot_history_future(y_train, prediction, 'BiLSTM')"
   ]
  },
  {
   "cell_type": "markdown",
   "metadata": {},
   "source": [
    "## Create a Pickle file using serialization"
   ]
  },
  {
   "cell_type": "code",
   "execution_count": 16,
   "metadata": {},
   "outputs": [],
   "source": [
    "pickle.dump(X_test, open('model_LSTM.pkl','wb'))"
   ]
  },
  {
   "cell_type": "markdown",
   "metadata": {},
   "source": [
    "## Loading model to compare the results"
   ]
  },
  {
   "cell_type": "code",
   "execution_count": 17,
   "metadata": {},
   "outputs": [],
   "source": [
    "model = pickle.load(open('model_LSTM.pkl','rb'))"
   ]
  },
  {
   "cell_type": "code",
   "execution_count": null,
   "metadata": {},
   "outputs": [],
   "source": []
  }
 ],
 "metadata": {
  "kernelspec": {
   "display_name": "Tensorflow",
   "language": "python",
   "name": "tensorflow"
  },
  "language_info": {
   "codemirror_mode": {
    "name": "ipython",
    "version": 3
   },
   "file_extension": ".py",
   "mimetype": "text/x-python",
   "name": "python",
   "nbconvert_exporter": "python",
   "pygments_lexer": "ipython3",
   "version": "3.7.9"
  }
 },
 "nbformat": 4,
 "nbformat_minor": 4
}
