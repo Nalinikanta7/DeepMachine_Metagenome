{
 "cells": [
  {
   "cell_type": "markdown",
   "metadata": {},
   "source": [
    "# Random Forest"
   ]
  },
  {
   "cell_type": "markdown",
   "metadata": {},
   "source": [
    "## Import Libraries"
   ]
  },
  {
   "cell_type": "code",
   "execution_count": 1,
   "metadata": {},
   "outputs": [],
   "source": [
    "import numpy as np\n",
    "import pandas as pd \n",
    "import matplotlib.pyplot as plt\n",
    "from sklearn.preprocessing import StandardScaler\n",
    "import pickle\n",
    "%matplotlib inline"
   ]
  },
  {
   "cell_type": "markdown",
   "metadata": {},
   "source": [
    "## Import Dataset"
   ]
  },
  {
   "cell_type": "code",
   "execution_count": 2,
   "metadata": {},
   "outputs": [],
   "source": [
    "dataset = pd.read_csv('extracted_feature_with_Response.csv')\n",
    "X = dataset.iloc[:, [1, 258]].values\n",
    "y = dataset.iloc[:, -1].values"
   ]
  },
  {
   "cell_type": "code",
   "execution_count": 3,
   "metadata": {},
   "outputs": [
    {
     "data": {
      "text/html": [
       "<div>\n",
       "<style scoped>\n",
       "    .dataframe tbody tr th:only-of-type {\n",
       "        vertical-align: middle;\n",
       "    }\n",
       "\n",
       "    .dataframe tbody tr th {\n",
       "        vertical-align: top;\n",
       "    }\n",
       "\n",
       "    .dataframe thead th {\n",
       "        text-align: right;\n",
       "    }\n",
       "</style>\n",
       "<table border=\"1\" class=\"dataframe\">\n",
       "  <thead>\n",
       "    <tr style=\"text-align: right;\">\n",
       "      <th></th>\n",
       "      <th>Unnamed: 0</th>\n",
       "      <th>CTD.C_A</th>\n",
       "      <th>CTD.C_T</th>\n",
       "      <th>CTD.C_C</th>\n",
       "      <th>CTD.C_G</th>\n",
       "      <th>CTD.T_A_T</th>\n",
       "      <th>CTD.T_A_C</th>\n",
       "      <th>CTD.T_A_G</th>\n",
       "      <th>CTD.T_T_C</th>\n",
       "      <th>CTD.T_T_G</th>\n",
       "      <th>...</th>\n",
       "      <th>CKSAAP.G0G.2</th>\n",
       "      <th>CKSAAP.G1A.1</th>\n",
       "      <th>CKSAAP.G1T.1</th>\n",
       "      <th>CKSAAP.G1C.1</th>\n",
       "      <th>CKSAAP.G1G.1</th>\n",
       "      <th>CKSAAP.G2A</th>\n",
       "      <th>CKSAAP.G2T</th>\n",
       "      <th>CKSAAP.G2C</th>\n",
       "      <th>CKSAAP.G2G</th>\n",
       "      <th>Response</th>\n",
       "    </tr>\n",
       "  </thead>\n",
       "  <tbody>\n",
       "    <tr>\n",
       "      <th>0</th>\n",
       "      <td>Scaffold_195141_1_Achromobacter_xylosoxidans-F1</td>\n",
       "      <td>0.266667</td>\n",
       "      <td>0.182456</td>\n",
       "      <td>0.252632</td>\n",
       "      <td>0.298246</td>\n",
       "      <td>0.073944</td>\n",
       "      <td>0.133803</td>\n",
       "      <td>0.137324</td>\n",
       "      <td>0.070423</td>\n",
       "      <td>0.144366</td>\n",
       "      <td>...</td>\n",
       "      <td>23</td>\n",
       "      <td>26</td>\n",
       "      <td>16</td>\n",
       "      <td>25</td>\n",
       "      <td>17</td>\n",
       "      <td>25</td>\n",
       "      <td>8</td>\n",
       "      <td>25</td>\n",
       "      <td>26</td>\n",
       "      <td>1</td>\n",
       "    </tr>\n",
       "    <tr>\n",
       "      <th>1</th>\n",
       "      <td>Scaffold_83842_1_Acinetobacter_baumannii-F1</td>\n",
       "      <td>0.191740</td>\n",
       "      <td>0.171091</td>\n",
       "      <td>0.336283</td>\n",
       "      <td>0.300885</td>\n",
       "      <td>0.044379</td>\n",
       "      <td>0.162722</td>\n",
       "      <td>0.103550</td>\n",
       "      <td>0.115385</td>\n",
       "      <td>0.130178</td>\n",
       "      <td>...</td>\n",
       "      <td>21</td>\n",
       "      <td>14</td>\n",
       "      <td>22</td>\n",
       "      <td>32</td>\n",
       "      <td>33</td>\n",
       "      <td>18</td>\n",
       "      <td>15</td>\n",
       "      <td>33</td>\n",
       "      <td>34</td>\n",
       "      <td>1</td>\n",
       "    </tr>\n",
       "    <tr>\n",
       "      <th>2</th>\n",
       "      <td>Scaffold_155448_1_Acinetobacter_calcoaceticus-F1</td>\n",
       "      <td>0.218182</td>\n",
       "      <td>0.184848</td>\n",
       "      <td>0.272727</td>\n",
       "      <td>0.324242</td>\n",
       "      <td>0.094225</td>\n",
       "      <td>0.100304</td>\n",
       "      <td>0.161094</td>\n",
       "      <td>0.097264</td>\n",
       "      <td>0.109422</td>\n",
       "      <td>...</td>\n",
       "      <td>32</td>\n",
       "      <td>27</td>\n",
       "      <td>21</td>\n",
       "      <td>36</td>\n",
       "      <td>22</td>\n",
       "      <td>21</td>\n",
       "      <td>19</td>\n",
       "      <td>24</td>\n",
       "      <td>42</td>\n",
       "      <td>1</td>\n",
       "    </tr>\n",
       "    <tr>\n",
       "      <th>3</th>\n",
       "      <td>Scaffold_211618_1_Acinetobacter_oleivorans-F1</td>\n",
       "      <td>0.129252</td>\n",
       "      <td>0.209184</td>\n",
       "      <td>0.353741</td>\n",
       "      <td>0.307823</td>\n",
       "      <td>0.052811</td>\n",
       "      <td>0.097104</td>\n",
       "      <td>0.076661</td>\n",
       "      <td>0.190801</td>\n",
       "      <td>0.120954</td>\n",
       "      <td>...</td>\n",
       "      <td>58</td>\n",
       "      <td>25</td>\n",
       "      <td>37</td>\n",
       "      <td>70</td>\n",
       "      <td>48</td>\n",
       "      <td>22</td>\n",
       "      <td>28</td>\n",
       "      <td>63</td>\n",
       "      <td>66</td>\n",
       "      <td>1</td>\n",
       "    </tr>\n",
       "    <tr>\n",
       "      <th>4</th>\n",
       "      <td>Scaffold_31971_1_Aeromonas_hydrophila-F1</td>\n",
       "      <td>0.161765</td>\n",
       "      <td>0.133987</td>\n",
       "      <td>0.387255</td>\n",
       "      <td>0.316993</td>\n",
       "      <td>0.039280</td>\n",
       "      <td>0.157119</td>\n",
       "      <td>0.091653</td>\n",
       "      <td>0.096563</td>\n",
       "      <td>0.106383</td>\n",
       "      <td>...</td>\n",
       "      <td>52</td>\n",
       "      <td>16</td>\n",
       "      <td>30</td>\n",
       "      <td>93</td>\n",
       "      <td>54</td>\n",
       "      <td>47</td>\n",
       "      <td>15</td>\n",
       "      <td>69</td>\n",
       "      <td>62</td>\n",
       "      <td>1</td>\n",
       "    </tr>\n",
       "    <tr>\n",
       "      <th>...</th>\n",
       "      <td>...</td>\n",
       "      <td>...</td>\n",
       "      <td>...</td>\n",
       "      <td>...</td>\n",
       "      <td>...</td>\n",
       "      <td>...</td>\n",
       "      <td>...</td>\n",
       "      <td>...</td>\n",
       "      <td>...</td>\n",
       "      <td>...</td>\n",
       "      <td>...</td>\n",
       "      <td>...</td>\n",
       "      <td>...</td>\n",
       "      <td>...</td>\n",
       "      <td>...</td>\n",
       "      <td>...</td>\n",
       "      <td>...</td>\n",
       "      <td>...</td>\n",
       "      <td>...</td>\n",
       "      <td>...</td>\n",
       "      <td>...</td>\n",
       "    </tr>\n",
       "    <tr>\n",
       "      <th>161</th>\n",
       "      <td>Gene_944176_Scaffold_1139765_Aeromonas_hydroph...</td>\n",
       "      <td>0.339583</td>\n",
       "      <td>0.258333</td>\n",
       "      <td>0.195833</td>\n",
       "      <td>0.206250</td>\n",
       "      <td>0.137787</td>\n",
       "      <td>0.133612</td>\n",
       "      <td>0.160752</td>\n",
       "      <td>0.106472</td>\n",
       "      <td>0.100209</td>\n",
       "      <td>...</td>\n",
       "      <td>19</td>\n",
       "      <td>29</td>\n",
       "      <td>28</td>\n",
       "      <td>22</td>\n",
       "      <td>20</td>\n",
       "      <td>33</td>\n",
       "      <td>31</td>\n",
       "      <td>17</td>\n",
       "      <td>17</td>\n",
       "      <td>0</td>\n",
       "    </tr>\n",
       "    <tr>\n",
       "      <th>162</th>\n",
       "      <td>Gene_317685_Scaffold_199933_Aeromonas_salmonic...</td>\n",
       "      <td>0.172303</td>\n",
       "      <td>0.173913</td>\n",
       "      <td>0.333333</td>\n",
       "      <td>0.320451</td>\n",
       "      <td>0.058065</td>\n",
       "      <td>0.117742</td>\n",
       "      <td>0.117742</td>\n",
       "      <td>0.120968</td>\n",
       "      <td>0.132258</td>\n",
       "      <td>...</td>\n",
       "      <td>51</td>\n",
       "      <td>25</td>\n",
       "      <td>47</td>\n",
       "      <td>75</td>\n",
       "      <td>51</td>\n",
       "      <td>33</td>\n",
       "      <td>29</td>\n",
       "      <td>58</td>\n",
       "      <td>78</td>\n",
       "      <td>0</td>\n",
       "    </tr>\n",
       "    <tr>\n",
       "      <th>163</th>\n",
       "      <td>Gene_644717_Scaffold_636324_Aeromonas_sobria-Y...</td>\n",
       "      <td>0.203579</td>\n",
       "      <td>0.203579</td>\n",
       "      <td>0.308725</td>\n",
       "      <td>0.284116</td>\n",
       "      <td>0.065022</td>\n",
       "      <td>0.132287</td>\n",
       "      <td>0.127803</td>\n",
       "      <td>0.143498</td>\n",
       "      <td>0.105381</td>\n",
       "      <td>...</td>\n",
       "      <td>36</td>\n",
       "      <td>34</td>\n",
       "      <td>33</td>\n",
       "      <td>36</td>\n",
       "      <td>23</td>\n",
       "      <td>21</td>\n",
       "      <td>28</td>\n",
       "      <td>42</td>\n",
       "      <td>35</td>\n",
       "      <td>0</td>\n",
       "    </tr>\n",
       "    <tr>\n",
       "      <th>164</th>\n",
       "      <td>Gene_111625_Scaffold_36961_Alcaligenes_faecali...</td>\n",
       "      <td>0.168285</td>\n",
       "      <td>0.203883</td>\n",
       "      <td>0.304207</td>\n",
       "      <td>0.323625</td>\n",
       "      <td>0.071429</td>\n",
       "      <td>0.090909</td>\n",
       "      <td>0.146104</td>\n",
       "      <td>0.142857</td>\n",
       "      <td>0.116883</td>\n",
       "      <td>...</td>\n",
       "      <td>23</td>\n",
       "      <td>16</td>\n",
       "      <td>25</td>\n",
       "      <td>20</td>\n",
       "      <td>38</td>\n",
       "      <td>18</td>\n",
       "      <td>18</td>\n",
       "      <td>36</td>\n",
       "      <td>27</td>\n",
       "      <td>0</td>\n",
       "    </tr>\n",
       "    <tr>\n",
       "      <th>165</th>\n",
       "      <td>Gene_246719_Scaffold_132191_Alcanivorax_borkum...</td>\n",
       "      <td>0.192053</td>\n",
       "      <td>0.205298</td>\n",
       "      <td>0.291391</td>\n",
       "      <td>0.311258</td>\n",
       "      <td>0.075221</td>\n",
       "      <td>0.117257</td>\n",
       "      <td>0.103982</td>\n",
       "      <td>0.115044</td>\n",
       "      <td>0.146018</td>\n",
       "      <td>...</td>\n",
       "      <td>47</td>\n",
       "      <td>34</td>\n",
       "      <td>28</td>\n",
       "      <td>51</td>\n",
       "      <td>27</td>\n",
       "      <td>31</td>\n",
       "      <td>24</td>\n",
       "      <td>41</td>\n",
       "      <td>44</td>\n",
       "      <td>0</td>\n",
       "    </tr>\n",
       "  </tbody>\n",
       "</table>\n",
       "<p>166 rows × 260 columns</p>\n",
       "</div>"
      ],
      "text/plain": [
       "                                            Unnamed: 0   CTD.C_A   CTD.C_T  \\\n",
       "0      Scaffold_195141_1_Achromobacter_xylosoxidans-F1  0.266667  0.182456   \n",
       "1          Scaffold_83842_1_Acinetobacter_baumannii-F1  0.191740  0.171091   \n",
       "2     Scaffold_155448_1_Acinetobacter_calcoaceticus-F1  0.218182  0.184848   \n",
       "3        Scaffold_211618_1_Acinetobacter_oleivorans-F1  0.129252  0.209184   \n",
       "4            Scaffold_31971_1_Aeromonas_hydrophila-F1   0.161765  0.133987   \n",
       "..                                                 ...       ...       ...   \n",
       "161  Gene_944176_Scaffold_1139765_Aeromonas_hydroph...  0.339583  0.258333   \n",
       "162  Gene_317685_Scaffold_199933_Aeromonas_salmonic...  0.172303  0.173913   \n",
       "163  Gene_644717_Scaffold_636324_Aeromonas_sobria-Y...  0.203579  0.203579   \n",
       "164  Gene_111625_Scaffold_36961_Alcaligenes_faecali...  0.168285  0.203883   \n",
       "165  Gene_246719_Scaffold_132191_Alcanivorax_borkum...  0.192053  0.205298   \n",
       "\n",
       "      CTD.C_C   CTD.C_G  CTD.T_A_T  CTD.T_A_C  CTD.T_A_G  CTD.T_T_C  \\\n",
       "0    0.252632  0.298246   0.073944   0.133803   0.137324   0.070423   \n",
       "1    0.336283  0.300885   0.044379   0.162722   0.103550   0.115385   \n",
       "2    0.272727  0.324242   0.094225   0.100304   0.161094   0.097264   \n",
       "3    0.353741  0.307823   0.052811   0.097104   0.076661   0.190801   \n",
       "4    0.387255  0.316993   0.039280   0.157119   0.091653   0.096563   \n",
       "..        ...       ...        ...        ...        ...        ...   \n",
       "161  0.195833  0.206250   0.137787   0.133612   0.160752   0.106472   \n",
       "162  0.333333  0.320451   0.058065   0.117742   0.117742   0.120968   \n",
       "163  0.308725  0.284116   0.065022   0.132287   0.127803   0.143498   \n",
       "164  0.304207  0.323625   0.071429   0.090909   0.146104   0.142857   \n",
       "165  0.291391  0.311258   0.075221   0.117257   0.103982   0.115044   \n",
       "\n",
       "     CTD.T_T_G  ...  CKSAAP.G0G.2  CKSAAP.G1A.1  CKSAAP.G1T.1  CKSAAP.G1C.1  \\\n",
       "0     0.144366  ...            23            26            16            25   \n",
       "1     0.130178  ...            21            14            22            32   \n",
       "2     0.109422  ...            32            27            21            36   \n",
       "3     0.120954  ...            58            25            37            70   \n",
       "4     0.106383  ...            52            16            30            93   \n",
       "..         ...  ...           ...           ...           ...           ...   \n",
       "161   0.100209  ...            19            29            28            22   \n",
       "162   0.132258  ...            51            25            47            75   \n",
       "163   0.105381  ...            36            34            33            36   \n",
       "164   0.116883  ...            23            16            25            20   \n",
       "165   0.146018  ...            47            34            28            51   \n",
       "\n",
       "     CKSAAP.G1G.1  CKSAAP.G2A  CKSAAP.G2T  CKSAAP.G2C  CKSAAP.G2G  Response  \n",
       "0              17          25           8          25          26         1  \n",
       "1              33          18          15          33          34         1  \n",
       "2              22          21          19          24          42         1  \n",
       "3              48          22          28          63          66         1  \n",
       "4              54          47          15          69          62         1  \n",
       "..            ...         ...         ...         ...         ...       ...  \n",
       "161            20          33          31          17          17         0  \n",
       "162            51          33          29          58          78         0  \n",
       "163            23          21          28          42          35         0  \n",
       "164            38          18          18          36          27         0  \n",
       "165            27          31          24          41          44         0  \n",
       "\n",
       "[166 rows x 260 columns]"
      ]
     },
     "execution_count": 3,
     "metadata": {},
     "output_type": "execute_result"
    }
   ],
   "source": [
    "dataset"
   ]
  },
  {
   "cell_type": "markdown",
   "metadata": {},
   "source": [
    "## Splitting the dataset into the Training set and Test set"
   ]
  },
  {
   "cell_type": "code",
   "execution_count": 4,
   "metadata": {},
   "outputs": [],
   "source": [
    "from sklearn.model_selection import train_test_split\n",
    "X_train, X_test, y_train, y_test = train_test_split(X, y, test_size = 0.25, random_state = 0)"
   ]
  },
  {
   "cell_type": "markdown",
   "metadata": {},
   "source": [
    "## Feature Scaling"
   ]
  },
  {
   "cell_type": "code",
   "execution_count": 5,
   "metadata": {},
   "outputs": [],
   "source": [
    "from sklearn.preprocessing import StandardScaler\n",
    "sc = StandardScaler()\n",
    "X_train = sc.fit_transform(X_train)\n",
    "X_test = sc.transform(X_test)"
   ]
  },
  {
   "cell_type": "markdown",
   "metadata": {},
   "source": [
    "## Fitting Random Forest Classification to the Training set"
   ]
  },
  {
   "cell_type": "markdown",
   "metadata": {},
   "source": [
    "### n_estimators = 10, criterion = 'gini'"
   ]
  },
  {
   "cell_type": "code",
   "execution_count": 6,
   "metadata": {},
   "outputs": [
    {
     "data": {
      "text/plain": [
       "RandomForestClassifier(n_estimators=10, random_state=0)"
      ]
     },
     "execution_count": 6,
     "metadata": {},
     "output_type": "execute_result"
    }
   ],
   "source": [
    "from sklearn.ensemble import RandomForestClassifier\n",
    "classifier_1 = RandomForestClassifier(n_estimators = 10, criterion = 'gini', random_state = 0)\n",
    "classifier_1.fit(X_train, y_train)"
   ]
  },
  {
   "cell_type": "markdown",
   "metadata": {},
   "source": [
    "### n_estimators = 16, criterion = 'gini'"
   ]
  },
  {
   "cell_type": "code",
   "execution_count": 7,
   "metadata": {},
   "outputs": [
    {
     "data": {
      "text/plain": [
       "RandomForestClassifier(n_estimators=16, random_state=0)"
      ]
     },
     "execution_count": 7,
     "metadata": {},
     "output_type": "execute_result"
    }
   ],
   "source": [
    "from sklearn.ensemble import RandomForestClassifier\n",
    "classifier_2 = RandomForestClassifier(n_estimators = 16, criterion = 'gini', random_state = 0)\n",
    "classifier_2.fit(X_train, y_train)"
   ]
  },
  {
   "cell_type": "markdown",
   "metadata": {},
   "source": [
    "### n_estimators = 10, criterion = 'entropy'"
   ]
  },
  {
   "cell_type": "code",
   "execution_count": 8,
   "metadata": {},
   "outputs": [
    {
     "data": {
      "text/plain": [
       "RandomForestClassifier(criterion='entropy', n_estimators=10, random_state=0)"
      ]
     },
     "execution_count": 8,
     "metadata": {},
     "output_type": "execute_result"
    }
   ],
   "source": [
    "from sklearn.ensemble import RandomForestClassifier\n",
    "classifier_3 = RandomForestClassifier(n_estimators = 10, criterion = 'entropy', random_state = 0)\n",
    "classifier_3.fit(X_train, y_train)"
   ]
  },
  {
   "cell_type": "markdown",
   "metadata": {},
   "source": [
    "### n_estimators = 10, criterion = 'entropy'"
   ]
  },
  {
   "cell_type": "code",
   "execution_count": 9,
   "metadata": {},
   "outputs": [
    {
     "data": {
      "text/plain": [
       "RandomForestClassifier(criterion='entropy', n_estimators=16, random_state=0)"
      ]
     },
     "execution_count": 9,
     "metadata": {},
     "output_type": "execute_result"
    }
   ],
   "source": [
    "from sklearn.ensemble import RandomForestClassifier\n",
    "classifier_4 = RandomForestClassifier(n_estimators = 16, criterion = 'entropy', random_state = 0)\n",
    "classifier_4.fit(X_train, y_train)"
   ]
  },
  {
   "cell_type": "markdown",
   "metadata": {},
   "source": [
    "## Fitting XGBoost to the Training set"
   ]
  },
  {
   "cell_type": "code",
   "execution_count": 10,
   "metadata": {},
   "outputs": [
    {
     "data": {
      "text/plain": [
       "XGBClassifier(base_score=0.5, booster='gbtree', colsample_bylevel=1,\n",
       "              colsample_bynode=1, colsample_bytree=1, gamma=0, gpu_id=-1,\n",
       "              importance_type='gain', interaction_constraints='',\n",
       "              learning_rate=0.300000012, max_delta_step=0, max_depth=6,\n",
       "              min_child_weight=1, missing=nan, monotone_constraints='()',\n",
       "              n_estimators=100, n_jobs=0, num_parallel_tree=1, random_state=0,\n",
       "              reg_alpha=0, reg_lambda=1, scale_pos_weight=1, subsample=1,\n",
       "              tree_method='exact', validate_parameters=1, verbosity=None)"
      ]
     },
     "execution_count": 10,
     "metadata": {},
     "output_type": "execute_result"
    }
   ],
   "source": [
    "from xgboost import XGBClassifier\n",
    "classifier = XGBClassifier()\n",
    "classifier.fit(X_train, y_train)"
   ]
  },
  {
   "cell_type": "markdown",
   "metadata": {},
   "source": [
    "## Predicting the Test set results"
   ]
  },
  {
   "cell_type": "code",
   "execution_count": 11,
   "metadata": {},
   "outputs": [],
   "source": [
    "y_pred_1 = classifier_1.predict(X_test)\n",
    "y_pred_2 = classifier_2.predict(X_test)\n",
    "y_pred_3 = classifier_3.predict(X_test)\n",
    "y_pred_4 = classifier_4.predict(X_test)"
   ]
  },
  {
   "cell_type": "markdown",
   "metadata": {},
   "source": [
    "## Making the Confusion Matrix"
   ]
  },
  {
   "cell_type": "code",
   "execution_count": null,
   "metadata": {},
   "outputs": [],
   "source": [
    "from sklearn.metrics import confusion_matrix\n",
    "cm = confusion_matrix(y_test, y_pred)"
   ]
  },
  {
   "cell_type": "code",
   "execution_count": null,
   "metadata": {},
   "outputs": [],
   "source": [
    "cm"
   ]
  },
  {
   "cell_type": "markdown",
   "metadata": {},
   "source": [
    "## Check Accuracy"
   ]
  },
  {
   "cell_type": "code",
   "execution_count": null,
   "metadata": {},
   "outputs": [],
   "source": [
    "from sklearn.metrics import accuracy_score\n",
    "score = accuracy_score(y_test, y_pred)\n",
    "score"
   ]
  },
  {
   "cell_type": "markdown",
   "metadata": {},
   "source": [
    "## Applying k-Fold Cross Validation"
   ]
  },
  {
   "cell_type": "code",
   "execution_count": null,
   "metadata": {},
   "outputs": [],
   "source": [
    "from sklearn.model_selection import cross_val_score\n",
    "accuracies = cross_val_score(estimator = classifier, X = X_train, y = y_train, cv = 10)\n",
    "accuracies.mean()\n",
    "accuracies.std()"
   ]
  },
  {
   "cell_type": "markdown",
   "metadata": {},
   "source": [
    "## Applying Grid Search to find the best model and the best parameters"
   ]
  },
  {
   "cell_type": "code",
   "execution_count": null,
   "metadata": {},
   "outputs": [],
   "source": [
    "from sklearn.model_selection import GridSearchCV\n",
    "parameters = [{'C': [1, 10, 100, 1000], 'kernel': ['linear']},\n",
    "              {'C': [1, 10, 100, 1000], 'kernel': ['n_estimators'], 'gamma': [0.1, 0.2, 0.3, 0.4, 0.5, 0.6, 0.7, 0.8, 0.9]}]\n",
    "grid_search = GridSearchCV(estimator = classifier,\n",
    "                           param_grid = parameters,\n",
    "                           scoring = 'accuracy',\n",
    "                           cv = 10,\n",
    "                           n_jobs = -1)\n",
    "grid_search = grid_search.fit(X_train, y_train)\n",
    "best_accuracy = grid_search.best_score_\n",
    "best_parameters = grid_search.best_params_"
   ]
  },
  {
   "cell_type": "markdown",
   "metadata": {},
   "source": [
    "## Evaluating the model"
   ]
  },
  {
   "cell_type": "code",
   "execution_count": null,
   "metadata": {},
   "outputs": [],
   "source": [
    "# Confusion Matrix\n",
    "from sklearn.metrics import confusion_matrix\n",
    "cm = confusion_matrix(y_test, y_pred)\n",
    "# Accuracy\n",
    "from sklearn.metrics import accuracy_score\n",
    "acc = accuracy_score(y_test, y_pred)\n",
    "# Recall\n",
    "from sklearn.metrics import recall_score\n",
    "rc = recall_score(y_test, y_pred, average=None)\n",
    "# Precision\n",
    "from sklearn.metrics import precision_score\n",
    "pre = precision_score(y_test, y_pred, average=None)"
   ]
  },
  {
   "cell_type": "code",
   "execution_count": null,
   "metadata": {},
   "outputs": [],
   "source": [
    "cm"
   ]
  },
  {
   "cell_type": "code",
   "execution_count": null,
   "metadata": {},
   "outputs": [],
   "source": [
    "acc"
   ]
  },
  {
   "cell_type": "code",
   "execution_count": null,
   "metadata": {},
   "outputs": [],
   "source": [
    "rc"
   ]
  },
  {
   "cell_type": "code",
   "execution_count": null,
   "metadata": {},
   "outputs": [],
   "source": [
    "pre"
   ]
  },
  {
   "cell_type": "markdown",
   "metadata": {},
   "source": [
    "## "
   ]
  },
  {
   "cell_type": "code",
   "execution_count": null,
   "metadata": {},
   "outputs": [],
   "source": []
  },
  {
   "cell_type": "markdown",
   "metadata": {},
   "source": [
    "## Visualising the Training set results"
   ]
  },
  {
   "cell_type": "markdown",
   "metadata": {},
   "source": [
    "from matplotlib.colors import ListedColormap\n",
    "X_set, y_set = X_train, y_train\n",
    "X1, X2 = np.meshgrid(np.arange(start = X_set[:, 0].min() - 1, stop = X_set[:, 0].max() + 1, step = 0.01),\n",
    "                     np.arange(start = X_set[:, 1].min() - 1, stop = X_set[:, 1].max() + 1, step = 0.01))\n",
    "plt.contourf(X1, X2, classifier.predict(np.array([X1.ravel(), X2.ravel()]).T).reshape(X1.shape),\n",
    "             alpha = 0.75, cmap = ListedColormap(('red', 'green')))\n",
    "plt.xlim(X1.min(), X1.max())\n",
    "plt.ylim(X2.min(), X2.max())\n",
    "for i, j in enumerate(np.unique(y_set)):\n",
    "    plt.scatter(X_set[y_set == j, 0], X_set[y_set == j, 1],\n",
    "                c = ListedColormap(('red', 'green'))(i), label = j)\n",
    "plt.title('Random Forest Classification (Training set)')\n",
    "plt.xlabel('Scaffolds')\n",
    "plt.ylabel('Features')\n",
    "plt.legend()\n",
    "plt.show()"
   ]
  },
  {
   "cell_type": "markdown",
   "metadata": {},
   "source": [
    "## Visualising the Test set results"
   ]
  },
  {
   "cell_type": "markdown",
   "metadata": {},
   "source": [
    "from matplotlib.colors import ListedColormap\n",
    "X_set, y_set = X_test, y_test\n",
    "X1, X2 = np.meshgrid(np.arange(start = X_set[:, 0].min() - 1, stop = X_set[:, 0].max() + 1, step = 0.01),\n",
    "                     np.arange(start = X_set[:, 1].min() - 1, stop = X_set[:, 1].max() + 1, step = 0.01))\n",
    "plt.contourf(X1, X2, classifier.predict(np.array([X1.ravel(), X2.ravel()]).T).reshape(X1.shape),\n",
    "             alpha = 0.75, cmap = ListedColormap(('red', 'green')))\n",
    "plt.xlim(X1.min(), X1.max())\n",
    "plt.ylim(X2.min(), X2.max())\n",
    "for i, j in enumerate(np.unique(y_set)):\n",
    "    plt.scatter(X_set[y_set == j, 0], X_set[y_set == j, 1],\n",
    "                c = ListedColormap(('red', 'green'))(i), label = j)\n",
    "plt.title('Random Forest Classification (Test set)')\n",
    "plt.xlabel('Scaffolds')\n",
    "plt.ylabel('Features')\n",
    "plt.legend()\n",
    "plt.show()"
   ]
  },
  {
   "cell_type": "markdown",
   "metadata": {},
   "source": [
    "## Pickling the Result"
   ]
  },
  {
   "cell_type": "code",
   "execution_count": 12,
   "metadata": {},
   "outputs": [],
   "source": [
    "# pickle.dump(X_test, open('model_RF.pkl','wb'))\n",
    "\n",
    "pickle.dump(classifier_1, open('model_RF_1.pkl','wb'))\n",
    "pickle.dump(classifier_2, open('model_RF_2.pkl','wb'))\n",
    "pickle.dump(classifier_3, open('model_RF_3.pkl','wb'))\n",
    "pickle.dump(classifier_4, open('model_RF_4.pkl','wb'))"
   ]
  },
  {
   "cell_type": "markdown",
   "metadata": {},
   "source": [
    "## Loading model to compare the results"
   ]
  },
  {
   "cell_type": "markdown",
   "metadata": {},
   "source": [
    "model = pickle.load(open('model_RF.pkl','rb'))"
   ]
  },
  {
   "cell_type": "code",
   "execution_count": null,
   "metadata": {},
   "outputs": [],
   "source": []
  }
 ],
 "metadata": {
  "kernelspec": {
   "display_name": "Tensorflow",
   "language": "python",
   "name": "tensorflow"
  },
  "language_info": {
   "codemirror_mode": {
    "name": "ipython",
    "version": 3
   },
   "file_extension": ".py",
   "mimetype": "text/x-python",
   "name": "python",
   "nbconvert_exporter": "python",
   "pygments_lexer": "ipython3",
   "version": "3.7.9"
  }
 },
 "nbformat": 4,
 "nbformat_minor": 4
}
